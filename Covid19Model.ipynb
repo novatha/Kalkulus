{
  "nbformat": 4,
  "nbformat_minor": 0,
  "metadata": {
    "colab": {
      "name": "Covid19Model.ipynb",
      "provenance": [],
      "authorship_tag": "ABX9TyOiPjS/3ai/eeJ7yVlMtLK2",
      "include_colab_link": true
    },
    "kernelspec": {
      "name": "python3",
      "display_name": "Python 3"
    }
  },
  "cells": [
    {
      "cell_type": "markdown",
      "metadata": {
        "id": "view-in-github",
        "colab_type": "text"
      },
      "source": [
        "<a href=\"https://colab.research.google.com/github/novatha/Kalkulus/blob/master/Covid19Model.ipynb\" target=\"_parent\"><img src=\"https://colab.research.google.com/assets/colab-badge.svg\" alt=\"Open In Colab\"/></a>"
      ]
    },
    {
      "cell_type": "code",
      "metadata": {
        "id": "WgVOxQEBMSmV",
        "colab_type": "code",
        "colab": {}
      },
      "source": [
        ""
      ],
      "execution_count": 0,
      "outputs": []
    },
    {
      "cell_type": "markdown",
      "metadata": {
        "id": "BzYvYh3pMU44",
        "colab_type": "text"
      },
      "source": [
        "Mathematical model of Covid-19 spread\n",
        "\n",
        "[A dynamical model](https://arxiv.org/pdf/2002.06563.pdf ) is a generalized SEIR model \n",
        "\n",
        "$\\frac{dS(t)}{dt} = -\\beta \\frac{S(t)I(t)}{N}- \\alpha S(t)$ susceptible population\n",
        "\n",
        "$\\frac{dE(t)}{dt}  = \\beta \\frac{E(t)I(t)}{N} - \\gamma E(t)$ Exposed population\n",
        "\n",
        "$\\frac{dI(t)}{dt} = \\gamma E(t) - \\delta I(t)$ Infective population\n",
        "\n",
        "$\\frac{dQ(t)}{dt} = \\delta I(t) - \\lambda(t) Q(t) - \\kappa (t) Q(t) $ Quarantined population\n",
        "\n",
        "$\\frac{dR(t)}{dt} = \\lambda(t) Q(t) $ Recovered population\n",
        "\n",
        "$\\frac{dD(t)}{dt} = \\kappa Q(t)$ Dead population\n",
        "\n",
        "$\\frac{dP(t)}{dt} = \\alpha S(t)$ Insuceptible population\n",
        "\n",
        "\n",
        "\n"
      ]
    },
    {
      "cell_type": "code",
      "metadata": {
        "id": "Th24c5vR5Fj8",
        "colab_type": "code",
        "colab": {}
      },
      "source": [
        "from google.colab import drive\n",
        "drive.mount('/content/drive')"
      ],
      "execution_count": 0,
      "outputs": []
    }
  ]
}